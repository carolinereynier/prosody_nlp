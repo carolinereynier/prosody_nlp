{
 "cells": [
  {
   "cell_type": "code",
   "execution_count": 1,
   "metadata": {},
   "outputs": [],
   "source": [
    "# %load debug\n",
    "import sys\n",
    "import render_tree, init, treebanks, parse_errors, head_finder, tree_transform\n",
    "import pstree_debug\n",
    "from collections import defaultdict\n",
    "from StringIO import StringIO\n",
    "from difflib import SequenceMatcher\n",
    "from nltk.tree import Tree"
   ]
  },
  {
   "cell_type": "code",
   "execution_count": 12,
   "metadata": {},
   "outputs": [],
   "source": [
    "def replace_words(ptb_tree, ms_words, i1, i2, j1, j2):\n",
    "    for k, sidx in enumerate(range(i1, i2)):\n",
    "        this_node = ptb_tree.get_nodes(start=sidx+k, end=sidx+k+1)\n",
    "        leaf = this_node[-1]\n",
    "        assert leaf.is_terminal()\n",
    "        leaf.word = ms_words[j1+k]\n",
    "    ptb_tree.check_consistency()\n",
    "\n",
    "# delete one word at a time\n",
    "def delete_word(ptb_tree, i1):\n",
    "    to_remove = ptb_tree.get_nodes(start=i1, end=i1+1)\n",
    "    for node in to_remove:\n",
    "        tree_transform.remove_node_by_node(node, True)\n",
    "    # update spans\n",
    "    for node in ptb_tree.get_nodes():\n",
    "        if node.span[0] > i1: \n",
    "            node.span = (node.span[0]-1, node.span[1])\n",
    "        if node.span[1] > i1: \n",
    "            node.span = (node.span[0], node.span[1]-1)\n",
    "    ptb_tree.check_consistency()\n",
    "\n",
    "def delete_words(ptb_tree, i1, i2):\n",
    "    for k in range(i1, i2)[::-1]:\n",
    "        # delete from back to front so it's easier to update spans\n",
    "        delete_word(ptb_tree, k)\n",
    "\n",
    "def insert_words(ptb_tree, ms_words, i1, i2, j1, j2):\n",
    "    to_insert = ms_words[j1:j2]\n",
    "    str_mrg = ['(XX ' + w +')' for w in to_insert]\n",
    "    mrg = '(X ' + ' '.join(str_mrg) + ' )'\n",
    "    node_to_add = pstree_debug.tree_from_text(mrg)\n",
    "    # adjust span of new node\n",
    "    for n in node_to_add.get_nodes():\n",
    "        n.span = (n.span[0] + i1, n.span[1] + i1)\n",
    "        \n",
    "    # adjust span of original tree\n",
    "    offset = j2 - j1\n",
    "    for node in ptb_tree.get_nodes():\n",
    "        if node.span[0] >= i1: node.span = (node.span[0] + offset, node.span[1])\n",
    "        if node.span[1] > i1: node.span = (node.span[0], node.span[1] + offset)\n",
    "\n",
    "    # choose left sibling's parent by default\n",
    "    sibling = ptb_tree.get_nodes(request='highest', end=node_to_add.span[0])\n",
    "    print sibling.span, sibling.label\n",
    "    \n",
    "    node_to_add.parent = sibling.parent\n",
    "    idx = sibling.parent.subtrees.index(sibling)\n",
    "    node_to_add.parent.subtrees.insert(idx+1, node_to_add)\n",
    "    ptb_tree.check_consistency()"
   ]
  },
  {
   "cell_type": "code",
   "execution_count": 19,
   "metadata": {},
   "outputs": [],
   "source": [
    "#ms_file = '../samples/4936_A9_0.ms.bkout'\n",
    "ms_file = '../samples/2015_B30_2.ms.bkout'\n",
    "ms_tree_candidates = open(ms_file).readlines()\n",
    "ms_tree_candidates = [x.strip() for x in ms_tree_candidates]\n",
    "ms_tree_candidates = [\"(ROOT\"+ x[1:] for x in ms_tree_candidates]\n",
    "\n",
    "#ptb_tree_mrg = \"(ROOT (S (INTJ (UH Uh) ) (INTJ (UH uh) ) (NP-SBJ-1 (PRP$ my) (NN wife) ) (VP (VBZ has) (VP (VBN picked) (PRT (RB up) ) (NP (NP (DT a) (NN couple) ) (PP (IN of) (NP (NNS things) ) ) ) (S-ADV (VP (VBG saying) (INTJ (UH uh) ) (S-SEZ (INTJ (UH boy) ) (SBAR-ADV (IN if) (S (NP-SBJ (PRP we) ) (VP (MD could) (VP (VB refinish) (NP (DT that) ) ) ) ) ) (NP-SBJ (DT that) ) (VP (MD would) (VP (VB be) (NP-PRD (NP (DT a) (JJ beautiful) (NN piece) ) (PP (IN of) (NP (NN furniture) ) ) ) ) ) ) ) ) ) ) ) )\"\n",
    "ptb_tree_mrg = \"(ROOT (S (NP-SBJ (PRP you) ) (VP (VP (VBD started) (PRT (RP off) ) ) (CC and) (VP (VBD said) ) ) ) )\"\n",
    "\n",
    "temp = pstree_debug.tree_from_text(ms_tree_candidates[0])\n",
    "ms_words = temp.word_yield(as_list=True)\n",
    "ptb_tree = pstree_debug.tree_from_text(ptb_tree_mrg)\n",
    "ptb_words = ptb_tree.word_yield(as_list=True)\n",
    "ptb_words = [x.lower() for x in ptb_words]\n"
   ]
  },
  {
   "cell_type": "code",
   "execution_count": 20,
   "metadata": {},
   "outputs": [],
   "source": [
    "t1 = Tree.fromstring(ptb_tree_mrg)\n",
    "#t1.pretty_print()\n",
    "\n",
    "t2 = Tree.fromstring(ms_tree_candidates[0])\n",
    "#t2.pretty_print()"
   ]
  },
  {
   "cell_type": "code",
   "execution_count": 21,
   "metadata": {},
   "outputs": [
    {
     "name": "stdout",
     "output_type": "stream",
     "text": [
      "[('insert', 4, 4, 4, 5)]\n"
     ]
    }
   ],
   "source": [
    "sseq = SequenceMatcher(None, ptb_words, ms_words)\n",
    "# .get_opcodes returns ops to turn a into b \n",
    "ops = []\n",
    "for info in sseq.get_opcodes():\n",
    "    if info[0] != 'equal': ops.append(info)\n",
    "\n",
    "print ops"
   ]
  },
  {
   "cell_type": "code",
   "execution_count": 22,
   "metadata": {},
   "outputs": [
    {
     "name": "stdout",
     "output_type": "stream",
     "text": [
      "insert\n",
      "(3, 4) CC\n"
     ]
    }
   ],
   "source": [
    "for op in ops[::-1]:\n",
    "    tag, i1, i2, j1, j2 = op\n",
    "    print tag\n",
    "    if tag == 'replace':\n",
    "        # easy case: same number of words --> just substitute\n",
    "        if (i2 - i1) == (j2 - j1):\n",
    "            replace_words(ptb_tree, ms_words, i1, i2, j1, j2)\n",
    "        # harder case: replace ptb_words[i1:i2] by ms_words[j1:j2]\n",
    "        else:\n",
    "            delete_words(ptb_tree, i1, i2)\n",
    "            insert_words(ptb_tree, ms_words, i1, i2, j1, j2)\n",
    "    elif tag == 'delete':\n",
    "        delete_words(ptb_tree, i1, i2)\n",
    "    else:\n",
    "        insert_words(ptb_tree, ms_words, i1, i2, j1, j2)\n",
    "    ptb_tree.check_consistency()"
   ]
  },
  {
   "cell_type": "code",
   "execution_count": 23,
   "metadata": {},
   "outputs": [
    {
     "name": "stdout",
     "output_type": "stream",
     "text": [
      "                   ROOT             \n",
      "                    |                \n",
      "                    S               \n",
      "   _________________|____            \n",
      "  |                      VP         \n",
      "  |              ________|_______    \n",
      "  |             VP       |   |   |  \n",
      "  |        _____|___     |   |   |   \n",
      "NP-SBJ    |        PRT   |   X   VP \n",
      "  |       |         |    |   |   |   \n",
      " PRP     VBD        RP   CC  XX VBD \n",
      "  |       |         |    |   |   |   \n",
      " you   started     off  and you said\n",
      "\n",
      "                ROOT                 \n",
      "                 |                    \n",
      "                 S                   \n",
      "        _________|____________        \n",
      "       S              |       |      \n",
      "  _____|_____         |       |       \n",
      " |           VP       |       S      \n",
      " |      _____|___     |    ___|___    \n",
      " NP    |        PRT   |   NP      VP \n",
      " |     |         |    |   |       |   \n",
      "PRP   VBD        RP   CC PRP     VBD \n",
      " |     |         |    |   |       |   \n",
      "you started     off  and you     said\n",
      "\n"
     ]
    }
   ],
   "source": [
    "s_new = str(ptb_tree)\n",
    "t_new = Tree.fromstring(s_new)\n",
    "t_new.pretty_print()\n",
    "\n",
    "t2.pretty_print()"
   ]
  },
  {
   "cell_type": "code",
   "execution_count": 26,
   "metadata": {},
   "outputs": [
    {
     "name": "stdout",
     "output_type": "stream",
     "text": [
      "('extra', (0, 1), 'NP-SBJ', (NP-SBJ (PRP you)))\n",
      "('extra', (1, 6), 'VP', (VP (VP (VBD started) (PRT (RP off))) (CC and) (X (XX you)) (VP (VBD said))))\n",
      "('extra', (4, 5), 'X', (X (XX you)))\n",
      "('missing', (0, 1), 'NP', (NP (PRP you)))\n",
      "('crossing', (0, 3), 'S', (S (NP (PRP you)) (VP (VBD started) (PRT (RP off)))))\n",
      "('missing', (4, 5), 'NP', (NP (PRP you)))\n",
      "('missing', (4, 6), 'S', (S (NP (PRP you)) (VP (VBD said))))\n",
      "\n",
      "((ROOT (S (NP-SBJ (PRP you)) (VP (VP (VBD started) (PRT (RP off))) (CC and) (X (XX you)) (VP (VBD said))))), {'classified_type': 'UNSET init', 'type': 'init'}, 0)\n",
      "((ROOT (S (NP (PRP you)) (VP (VP (VBD started) (PRT (RP off))) (CC and) (X (XX you)) (VP (VBD said))))), {'family': ['NP', 'VP'], 'auto preterminal span': (0, 1), 'span': (0, 1), 'subtrees': ['PRP'], 'parent': 'S', 'over_word': True, 'auto preterminals': ('PRP',), 'classified_type': 'Single Word Phrase', 'type': 'relabel', 'change': ('NP-SBJ', 'NP')}, 2)\n",
      "((ROOT (S (NP (PRP you)) (VP (VP (VBD started) (PRT (RP off))) (CC and) (NP (XX you)) (VP (VBD said))))), {'family': ['VP', 'CC', 'NP', 'VP'], 'auto preterminal span': (4, 5), 'span': (4, 5), 'subtrees': ['XX'], 'parent': 'VP', 'over_word': True, 'auto preterminals': ('XX',), 'classified_type': 'Single Word Phrase', 'type': 'relabel', 'change': ('X', 'NP')}, 2)\n",
      "((ROOT (S (NP (PRP you)) (VP (VP (VBD started) (PRT (RP off))) (CC and) (S (NP (XX you)) (VP (VBD said)))))), {'subtrees': ['NP', 'VP'], 'family': ['VP', 'CC', 'S'], 'over_word': False, 'over words': False, 'auto preterminals': ('XX', 'VBD'), 'right siblings': [], 'left siblings': [(VP (VBD started) (PRT (RP off))), (CC and)], 'auto preterminal span': (4, 6), 'span': (4, 6), 'parent': 'VP', 'label': 'S', 'classified_type': 'UNSET add', 'type': 'add'}, 1)\n",
      "((ROOT (S (NP (PRP you)) (VP (VBD started) (PRT (RP off))) (CC and) (S (NP (XX you)) (VP (VBD said))))), {'subtrees': ['VP', 'CC', 'S'], 'family': ['NP', 'VP'], 'over_word': False, 'over words': False, 'auto preterminals': ('PRP', 'VBD', 'RP', 'CC', 'XX', 'VBD'), 'right siblings': [], 'parent': 'S', 'auto preterminal span': (0, 6), 'span': (1, 6), 'left siblings': ['NP'], 'label': 'VP', 'classified_type': 'Clause Attachment', 'type': 'remove'}, 1)\n",
      "((ROOT (S (S (NP (PRP you)) (VP (VBD started) (PRT (RP off)))) (CC and) (S (NP (XX you)) (VP (VBD said))))), {'subtrees': ['NP', 'VP'], 'family': ['S', 'CC', 'S'], 'over_word': False, 'over words': False, 'auto preterminals': ('PRP', 'VBD', 'RP'), 'right siblings': [(CC and), (S (NP (XX you)) (VP (VBD said)))], 'left siblings': [], 'auto preterminal span': (0, 3), 'span': (0, 3), 'parent': 'S', 'label': 'S', 'classified_type': 'UNSET add', 'type': 'add'}, 1)\n"
     ]
    }
   ],
   "source": [
    "import transform_search\n",
    "from classify_english import classify\n",
    "init_errors = parse_errors.get_errors(ptb_tree, temp)\n",
    "iters, path = transform_search.greedy_search(temp, ptb_tree, classify)\n",
    "\n",
    "for e in init_errors: print e\n",
    "print\n",
    "for p in path: print p"
   ]
  },
  {
   "cell_type": "code",
   "execution_count": null,
   "metadata": {},
   "outputs": [],
   "source": []
  }
 ],
 "metadata": {
  "kernelspec": {
   "display_name": "Python 2",
   "language": "python",
   "name": "python2"
  },
  "language_info": {
   "codemirror_mode": {
    "name": "ipython",
    "version": 2
   },
   "file_extension": ".py",
   "mimetype": "text/x-python",
   "name": "python",
   "nbconvert_exporter": "python",
   "pygments_lexer": "ipython2",
   "version": "2.7.11"
  }
 },
 "nbformat": 4,
 "nbformat_minor": 2
}
